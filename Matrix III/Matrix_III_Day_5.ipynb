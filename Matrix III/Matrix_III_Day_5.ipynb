{
  "nbformat": 4,
  "nbformat_minor": 0,
  "metadata": {
    "colab": {
      "name": "Matrix III Day 5.ipynb",
      "provenance": [],
      "collapsed_sections": [],
      "mount_file_id": "1ybju56XrshnDBeycnWvFL51Rg6RjUUyV",
      "authorship_tag": "ABX9TyMB4qLg7SwPbbP+W83OWY/f",
      "include_colab_link": true
    },
    "kernelspec": {
      "name": "python3",
      "display_name": "Python 3"
    },
    "accelerator": "GPU"
  },
  "cells": [
    {
      "cell_type": "markdown",
      "metadata": {
        "id": "view-in-github",
        "colab_type": "text"
      },
      "source": [
        "<a href=\"https://colab.research.google.com/github/andrzej-malina/data_workshop_matrix/blob/master/Matrix%20III/Matrix_III_Day_5.ipynb\" target=\"_parent\"><img src=\"https://colab.research.google.com/assets/colab-badge.svg\" alt=\"Open In Colab\"/></a>"
      ]
    },
    {
      "cell_type": "code",
      "metadata": {
        "id": "lu1i9DWlBgNy",
        "colab_type": "code",
        "colab": {}
      },
      "source": [
        "import pandas as pd\n",
        "import numpy as np\n",
        "\n",
        "import os\n",
        "import datetime\n",
        "\n",
        "import tensorflow as tf\n",
        "from tensorflow.keras import Sequential\n",
        "from tensorflow.keras.layers import Conv2D, MaxPool2D, Dense, Flatten, Dropout\n",
        "\n",
        "from tensorflow.keras.utils import to_categorical\n",
        "import matplotlib.pyplot as plt\n",
        "from skimage import color, exposure\n",
        "\n",
        "from sklearn.metrics import accuracy_score\n",
        "%load_ext tensorboard"
      ],
      "execution_count": 0,
      "outputs": []
    },
    {
      "cell_type": "code",
      "metadata": {
        "id": "QbR8ZtNRKdFy",
        "colab_type": "code",
        "colab": {}
      },
      "source": [
        "from hyperopt import hp, STATUS_OK, tpe, Trials, fmin"
      ],
      "execution_count": 0,
      "outputs": []
    },
    {
      "cell_type": "code",
      "metadata": {
        "id": "Sfacbq9p7P-2",
        "colab_type": "code",
        "outputId": "0988d4a4-3fd9-45d7-f46f-9a32bbf88a30",
        "colab": {
          "base_uri": "https://localhost:8080/",
          "height": 34
        }
      },
      "source": [
        "cd '/content/drive/My Drive/Colab Notebooks/data_workshop_matrix/Matrix III/'"
      ],
      "execution_count": 3,
      "outputs": [
        {
          "output_type": "stream",
          "text": [
            "/content/drive/My Drive/Colab Notebooks/data_workshop_matrix/Matrix III\n"
          ],
          "name": "stdout"
        }
      ]
    },
    {
      "cell_type": "code",
      "metadata": {
        "id": "8ZcCwfLw7qa2",
        "colab_type": "code",
        "colab": {}
      },
      "source": [
        "train = pd.read_pickle('data/train.p')\n",
        "test = pd.read_pickle('data/test.p')\n",
        "\n",
        "X_train, y_train = train['features'], train['labels']\n",
        "X_test, y_test = test['features'], test['labels']"
      ],
      "execution_count": 0,
      "outputs": []
    },
    {
      "cell_type": "code",
      "metadata": {
        "id": "sZNTNJZK7_zN",
        "colab_type": "code",
        "colab": {}
      },
      "source": [
        "if y_train.ndim == 1 : y_train = to_categorical(y_train)\n",
        "if y_test.ndim == 1 : y_test = to_categorical(y_test)"
      ],
      "execution_count": 0,
      "outputs": []
    },
    {
      "cell_type": "code",
      "metadata": {
        "id": "MQtWLtNC89tA",
        "colab_type": "code",
        "outputId": "1fa5801d-450f-40c1-f371-98af528e493a",
        "colab": {
          "base_uri": "https://localhost:8080/",
          "height": 34
        }
      },
      "source": [
        "y_train.shape, y_test.shape, X_train.shape, X_test.shape"
      ],
      "execution_count": 7,
      "outputs": [
        {
          "output_type": "execute_result",
          "data": {
            "text/plain": [
              "((34799, 43), (4410, 43), (34799, 32, 32, 3), (4410, 32, 32, 3))"
            ]
          },
          "metadata": {
            "tags": []
          },
          "execution_count": 7
        }
      ]
    },
    {
      "cell_type": "code",
      "metadata": {
        "id": "A_orakGw-FoQ",
        "colab_type": "code",
        "colab": {}
      },
      "source": [
        "input_shape = X_train.shape[1:]\n",
        "num_classes = y_train.shape[1]"
      ],
      "execution_count": 0,
      "outputs": []
    },
    {
      "cell_type": "code",
      "metadata": {
        "id": "GPv7Zo0gN4rF",
        "colab_type": "code",
        "colab": {}
      },
      "source": [
        "def train_model(model, X_train, y_train, params_fit={}):\n",
        "  model.compile(loss='categorical_crossentropy', optimizer='adam', metrics=['accuracy'])\n",
        "  \n",
        "  logdir = os.path.join('logs', datetime.datetime.now().strftime('%Y%m%d-%H%M%S'))\n",
        "  tensorboard_callback = tf.keras.callbacks.TensorBoard(logdir, histogram_freq=1)\n",
        "\n",
        "  model.fit(\n",
        "      X_train, \n",
        "      y_train,\n",
        "      batch_size = params_fit.get('batch_size', 128),\n",
        "      epochs = params_fit.get('epochs', 5),\n",
        "      verbose = params_fit.get('verbose', 1),\n",
        "      validation_data = params_fit.get('validation_data', (X_train, y_train)),\n",
        "      callbacks = [tensorboard_callback]\n",
        "  )\n",
        "\n",
        "  return model"
      ],
      "execution_count": 0,
      "outputs": []
    },
    {
      "cell_type": "code",
      "metadata": {
        "id": "ENgRxyniNUJF",
        "colab_type": "code",
        "colab": {}
      },
      "source": [
        "def predict(model_trained, X_test, y_test, scoring=accuracy_score):\n",
        "\n",
        "  y_test_norm = np.argmax(y_test, axis=1)\n",
        "  y_pred_prob = model_trained.predict(X_test)\n",
        "  y_pred = np.argmax(y_pred_prob, axis=1)\n",
        "  return scoring(y_test_norm, y_pred)"
      ],
      "execution_count": 0,
      "outputs": []
    },
    {
      "cell_type": "code",
      "metadata": {
        "id": "-oy00q5xNGLo",
        "colab_type": "code",
        "colab": {}
      },
      "source": [
        "def get_cnn_v5(input_shape, num_classes):\n",
        "  return Sequential([\n",
        "      Conv2D(filters=32, kernel_size=(3,3), activation='relu', input_shape=input_shape),\n",
        "      Conv2D(filters=32, kernel_size=(3,3), activation='relu', padding='same'),\n",
        "      MaxPool2D(),\n",
        "      Dropout(0.3),\n",
        "      \n",
        "      Conv2D(filters=32, kernel_size=(3,3), activation='relu', padding='same'),\n",
        "      Conv2D(filters=32, kernel_size=(3,3), activation='relu'),\n",
        "      MaxPool2D(),\n",
        "      Dropout(0.3),\n",
        "      \n",
        "      Conv2D(filters=64, kernel_size=(3,3), activation='relu', padding='same'),\n",
        "      Conv2D(filters=64, kernel_size=(3,3), activation='relu'),\n",
        "      MaxPool2D(),\n",
        "      Dropout(0.3),\n",
        "\n",
        "      Flatten(),\n",
        "\n",
        "      Dense(1024, activation='relu'),\n",
        "      Dropout(0.3),\n",
        "\n",
        "      Dense(1024, activation='relu'),\n",
        "      Dropout(0.3),\n",
        "\n",
        "      Dense(num_classes, activation='softmax')\n",
        "    ])"
      ],
      "execution_count": 0,
      "outputs": []
    },
    {
      "cell_type": "code",
      "metadata": {
        "id": "gQfrBYlXNGYF",
        "colab_type": "code",
        "colab": {
          "base_uri": "https://localhost:8080/",
          "height": 204
        },
        "outputId": "b63ad008-caba-470b-ef5f-4439f8e31b20"
      },
      "source": [
        "model = get_cnn_v5(input_shape, num_classes)\n",
        "model_trained = train_model(model, X_train, y_train, params_fit={})\n",
        "predict(model_trained, X_test, y_test )"
      ],
      "execution_count": 13,
      "outputs": [
        {
          "output_type": "stream",
          "text": [
            "Epoch 1/5\n",
            "272/272 [==============================] - 6s 22ms/step - loss: 2.7121 - accuracy: 0.2512 - val_loss: 1.3254 - val_accuracy: 0.5794\n",
            "Epoch 2/5\n",
            "272/272 [==============================] - 5s 20ms/step - loss: 1.0790 - accuracy: 0.6525 - val_loss: 0.2848 - val_accuracy: 0.9087\n",
            "Epoch 3/5\n",
            "272/272 [==============================] - 5s 20ms/step - loss: 0.5036 - accuracy: 0.8395 - val_loss: 0.1030 - val_accuracy: 0.9691\n",
            "Epoch 4/5\n",
            "272/272 [==============================] - 5s 20ms/step - loss: 0.3368 - accuracy: 0.8967 - val_loss: 0.0903 - val_accuracy: 0.9722\n",
            "Epoch 5/5\n",
            "272/272 [==============================] - 5s 20ms/step - loss: 0.2555 - accuracy: 0.9221 - val_loss: 0.0525 - val_accuracy: 0.9846\n"
          ],
          "name": "stdout"
        },
        {
          "output_type": "execute_result",
          "data": {
            "text/plain": [
              "0.9607709750566893"
            ]
          },
          "metadata": {
            "tags": []
          },
          "execution_count": 13
        }
      ]
    },
    {
      "cell_type": "code",
      "metadata": {
        "id": "HW8Z_ciLTjkL",
        "colab_type": "code",
        "colab": {}
      },
      "source": [
        "def get_model(params):\n",
        "  return Sequential([\n",
        "      Conv2D(filters=32, kernel_size=(3,3), activation='relu', input_shape=input_shape),\n",
        "      Conv2D(filters=32, kernel_size=(3,3), activation='relu', padding='same'),\n",
        "      MaxPool2D(),\n",
        "      Dropout(params['dropout_cnn_block_one']),\n",
        "      \n",
        "      Conv2D(filters=32, kernel_size=(3,3), activation='relu', padding='same'),\n",
        "      Conv2D(filters=32, kernel_size=(3,3), activation='relu'),\n",
        "      MaxPool2D(),\n",
        "      Dropout(params['dropout_cnn_block_two']),\n",
        "      \n",
        "      Conv2D(filters=128, kernel_size=(3,3), activation='relu', padding='same'),\n",
        "      Conv2D(filters=128, kernel_size=(3,3), activation='relu'),\n",
        "      MaxPool2D(),\n",
        "      Dropout(params['dropout_cnn_block_three']),\n",
        "\n",
        "      Flatten(),\n",
        "\n",
        "      Dense(1024, activation='relu'),\n",
        "      Dropout(params['dropout_dense_block_one']),\n",
        "\n",
        "      Dense(1024, activation='relu'),\n",
        "      Dropout(params['dropout_dense_block_two']),\n",
        "\n",
        "      Dense(num_classes, activation='softmax')\n",
        "    ])"
      ],
      "execution_count": 0,
      "outputs": []
    },
    {
      "cell_type": "code",
      "metadata": {
        "id": "cB37KpqyNGbC",
        "colab_type": "code",
        "colab": {}
      },
      "source": [
        "def func_obj(params):\n",
        "  model = get_model(params)\n",
        "  model.compile(loss='categorical_crossentropy', optimizer='adam', metrics=['accuracy'])\n",
        "  \n",
        "  model.fit(\n",
        "      X_train, \n",
        "      y_train,\n",
        "      batch_size = int(params.get('batch_size', 128)),\n",
        "      epochs = 5,\n",
        "      verbose = 0\n",
        "  )\n",
        "  score = model.evaluate(X_test, y_test, verbose=0)\n",
        "  accuracy = score[1]\n",
        "  print (params, 'accuracy = {}'.format(accuracy))\n",
        "  return {'loss': -accuracy, 'status': STATUS_OK, 'model': model }"
      ],
      "execution_count": 0,
      "outputs": []
    },
    {
      "cell_type": "code",
      "metadata": {
        "id": "PQ5jwT16NGeI",
        "colab_type": "code",
        "colab": {}
      },
      "source": [
        "space = {\n",
        "    'batch_size': hp.quniform('batch_size', 100, 200, 10),\n",
        "    'dropout_cnn_block_one': hp.uniform('dropout_cnn_block_one', 0.3, 0.5),\n",
        "    'dropout_cnn_block_two': hp.uniform('dropout_cnn_block_two', 0.3, 0.5),\n",
        "    'dropout_cnn_block_three': hp.uniform('dropout_cnn_block_three', 0.3, 0.5),\n",
        "    'dropout_dense_block_one': hp.uniform('dropout_dense_block_one', 0.3, 0.7),\n",
        "    'dropout_dense_block_two': hp.uniform('dropout_dense_block_two', 0.3, 0.7),\n",
        "}"
      ],
      "execution_count": 0,
      "outputs": []
    },
    {
      "cell_type": "code",
      "metadata": {
        "id": "q2WnttIrNGhK",
        "colab_type": "code",
        "colab": {
          "base_uri": "https://localhost:8080/",
          "height": 1000
        },
        "outputId": "0eaef7b3-0811-411e-9e0e-755a19fbf615"
      },
      "source": [
        "best = fmin(\n",
        "    func_obj,\n",
        "    space,\n",
        "    tpe.suggest,\n",
        "    30,\n",
        "    Trials()\n",
        ")"
      ],
      "execution_count": 37,
      "outputs": [
        {
          "output_type": "stream",
          "text": [
            "{'batch_size': 160.0, 'dropout_cnn_block_one': 0.49692014029357523, 'dropout_cnn_block_three': 0.32889991847051764, 'dropout_cnn_block_two': 0.4831398445141789, 'dropout_dense_block_one': 0.4706999607944915, 'dropout_dense_block_two': 0.6683504937749825}\n",
            "accuracy = 0.45895692706108093\n",
            "{'batch_size': 180.0, 'dropout_cnn_block_one': 0.4514442315660754, 'dropout_cnn_block_three': 0.4972654818025203, 'dropout_cnn_block_two': 0.3757113036608398, 'dropout_dense_block_one': 0.6673459060384053, 'dropout_dense_block_two': 0.6610679724757427}\n",
            "accuracy = 0.5469387769699097\n",
            "{'batch_size': 160.0, 'dropout_cnn_block_one': 0.44929045816899416, 'dropout_cnn_block_three': 0.3062285988786869, 'dropout_cnn_block_two': 0.46674153365460097, 'dropout_dense_block_one': 0.6120746826831973, 'dropout_dense_block_two': 0.46339062078254095}\n",
            "accuracy = 0.8854875564575195\n",
            "{'batch_size': 110.0, 'dropout_cnn_block_one': 0.36589857861955194, 'dropout_cnn_block_three': 0.3006289123626733, 'dropout_cnn_block_two': 0.49146535750167086, 'dropout_dense_block_one': 0.34372686782320283, 'dropout_dense_block_two': 0.3752017112611446}\n",
            "accuracy = 0.9113378524780273\n",
            "{'batch_size': 180.0, 'dropout_cnn_block_one': 0.4621722643983765, 'dropout_cnn_block_three': 0.4139665070946443, 'dropout_cnn_block_two': 0.45149347770379444, 'dropout_dense_block_one': 0.6853260916567999, 'dropout_dense_block_two': 0.6873093752631738}\n",
            "accuracy = 0.6984127163887024\n",
            "{'batch_size': 150.0, 'dropout_cnn_block_one': 0.4788183406722827, 'dropout_cnn_block_three': 0.3840562991011046, 'dropout_cnn_block_two': 0.3239017223846236, 'dropout_dense_block_one': 0.4086088902466042, 'dropout_dense_block_two': 0.6350053835149565}\n",
            "accuracy = 0.8984127044677734\n",
            "{'batch_size': 150.0, 'dropout_cnn_block_one': 0.4508125565760601, 'dropout_cnn_block_three': 0.3793267050479903, 'dropout_cnn_block_two': 0.39558303919065413, 'dropout_dense_block_one': 0.33553385798905483, 'dropout_dense_block_two': 0.659397223152947}\n",
            "accuracy = 0.918367326259613\n",
            "{'batch_size': 190.0, 'dropout_cnn_block_one': 0.42634334963142284, 'dropout_cnn_block_three': 0.353564943422632, 'dropout_cnn_block_two': 0.38995998517583674, 'dropout_dense_block_one': 0.3443004662109609, 'dropout_dense_block_two': 0.34652313063222406}\n",
            "accuracy = 0.9517006874084473\n",
            "{'batch_size': 110.0, 'dropout_cnn_block_one': 0.39450039065466636, 'dropout_cnn_block_three': 0.36977067316484513, 'dropout_cnn_block_two': 0.312656747492096, 'dropout_dense_block_one': 0.5153966761395631, 'dropout_dense_block_two': 0.39234168492870203}\n",
            "accuracy = 0.8092970252037048\n",
            "{'batch_size': 200.0, 'dropout_cnn_block_one': 0.49893635179380175, 'dropout_cnn_block_three': 0.30751690803388787, 'dropout_cnn_block_two': 0.3813993661228662, 'dropout_dense_block_one': 0.6549095150638917, 'dropout_dense_block_two': 0.35146348748598805}\n",
            "accuracy = 0.7748299241065979\n",
            "{'batch_size': 170.0, 'dropout_cnn_block_one': 0.3970239253539897, 'dropout_cnn_block_three': 0.41196707927677595, 'dropout_cnn_block_two': 0.46946623262843346, 'dropout_dense_block_one': 0.5651225317136803, 'dropout_dense_block_two': 0.6654854883143544}\n",
            "accuracy = 0.835827648639679\n",
            "{'batch_size': 180.0, 'dropout_cnn_block_one': 0.414785503522214, 'dropout_cnn_block_three': 0.35604339324868167, 'dropout_cnn_block_two': 0.3752153758776083, 'dropout_dense_block_one': 0.35464337814066427, 'dropout_dense_block_two': 0.6497375340800119}\n",
            "accuracy = 0.8999999761581421\n",
            "{'batch_size': 170.0, 'dropout_cnn_block_one': 0.4817799119729138, 'dropout_cnn_block_three': 0.4003877286073278, 'dropout_cnn_block_two': 0.354826203329787, 'dropout_dense_block_one': 0.6982678246374941, 'dropout_dense_block_two': 0.5366848611752705}\n",
            "accuracy = 0.7947846055030823\n",
            "{'batch_size': 190.0, 'dropout_cnn_block_one': 0.41701115144472034, 'dropout_cnn_block_three': 0.4285383908073357, 'dropout_cnn_block_two': 0.37603310418702895, 'dropout_dense_block_one': 0.5536225753015602, 'dropout_dense_block_two': 0.5521529656887167}\n",
            "accuracy = 0.8099773526191711\n",
            "{'batch_size': 160.0, 'dropout_cnn_block_one': 0.4594312946812365, 'dropout_cnn_block_three': 0.32893247900705985, 'dropout_cnn_block_two': 0.41173907043552, 'dropout_dense_block_one': 0.45453628661770185, 'dropout_dense_block_two': 0.6021733542993712}\n",
            "accuracy = 0.8866212964057922\n",
            "{'batch_size': 170.0, 'dropout_cnn_block_one': 0.37112095193438377, 'dropout_cnn_block_three': 0.46144738807903324, 'dropout_cnn_block_two': 0.37119114419712856, 'dropout_dense_block_one': 0.4374510896438195, 'dropout_dense_block_two': 0.6230129881098762}\n",
            "accuracy = 0.8662131428718567\n",
            "{'batch_size': 100.0, 'dropout_cnn_block_one': 0.485892695160372, 'dropout_cnn_block_three': 0.34102616559781357, 'dropout_cnn_block_two': 0.3132628199730336, 'dropout_dense_block_one': 0.5511915979755082, 'dropout_dense_block_two': 0.43447454647168143}\n",
            "accuracy = 0.9312925338745117\n",
            "{'batch_size': 200.0, 'dropout_cnn_block_one': 0.4526977182212, 'dropout_cnn_block_three': 0.3834852927066043, 'dropout_cnn_block_two': 0.3261025851026177, 'dropout_dense_block_one': 0.44792103460033866, 'dropout_dense_block_two': 0.3945807959499506}\n",
            "accuracy = 0.8419501185417175\n",
            "{'batch_size': 190.0, 'dropout_cnn_block_one': 0.36254066523308703, 'dropout_cnn_block_three': 0.40104187074392317, 'dropout_cnn_block_two': 0.4036534097220892, 'dropout_dense_block_one': 0.6906484191875273, 'dropout_dense_block_two': 0.6318744105705894}\n",
            "accuracy = 0.6151927709579468\n",
            "{'batch_size': 140.0, 'dropout_cnn_block_one': 0.3537541676810634, 'dropout_cnn_block_three': 0.318658406342692, 'dropout_cnn_block_two': 0.34681228306935313, 'dropout_dense_block_one': 0.49784520843771574, 'dropout_dense_block_two': 0.5129054447283461}\n",
            "accuracy = 0.9476190209388733\n",
            "{'batch_size': 130.0, 'dropout_cnn_block_one': 0.31654280663740053, 'dropout_cnn_block_three': 0.34539026022641717, 'dropout_cnn_block_two': 0.42893972251246426, 'dropout_dense_block_one': 0.30292672230458506, 'dropout_dense_block_two': 0.30096505267668117}\n",
            "accuracy = 0.9356009364128113\n",
            "{'batch_size': 130.0, 'dropout_cnn_block_one': 0.31077289203943065, 'dropout_cnn_block_three': 0.32163877808958496, 'dropout_cnn_block_two': 0.3447031316427507, 'dropout_dense_block_one': 0.3946642850276353, 'dropout_dense_block_two': 0.5029714163778846}\n",
            "accuracy = 0.9106575846672058\n",
            "{'batch_size': 130.0, 'dropout_cnn_block_one': 0.34005105280671477, 'dropout_cnn_block_three': 0.3620971819269518, 'dropout_cnn_block_two': 0.3489032458138643, 'dropout_dense_block_one': 0.5019624613778884, 'dropout_dense_block_two': 0.3023932357779423}\n",
            "accuracy = 0.9512471556663513\n",
            "{'batch_size': 120.0, 'dropout_cnn_block_one': 0.33228209029468414, 'dropout_cnn_block_three': 0.3613120496508534, 'dropout_cnn_block_two': 0.4205206146410723, 'dropout_dense_block_one': 0.6067830181222496, 'dropout_dense_block_two': 0.3173887695230506}\n",
            "accuracy = 0.9303854703903198\n",
            "{'batch_size': 140.0, 'dropout_cnn_block_one': 0.4294935783645738, 'dropout_cnn_block_three': 0.446585702963401, 'dropout_cnn_block_two': 0.44109127212593696, 'dropout_dense_block_one': 0.3954476228785607, 'dropout_dense_block_two': 0.32470633187163855}\n",
            "accuracy = 0.8707482814788818\n",
            "{'batch_size': 130.0, 'dropout_cnn_block_one': 0.33918667960915655, 'dropout_cnn_block_three': 0.34117682308532715, 'dropout_cnn_block_two': 0.30007484763597947, 'dropout_dense_block_one': 0.5040439006907702, 'dropout_dense_block_two': 0.43558057872809924}\n",
            "accuracy = 0.9482993483543396\n",
            "{'batch_size': 120.0, 'dropout_cnn_block_one': 0.3855669761225022, 'dropout_cnn_block_three': 0.35697119046800313, 'dropout_cnn_block_two': 0.36025365482744437, 'dropout_dense_block_one': 0.585937142783049, 'dropout_dense_block_two': 0.33561630181324065}\n",
            "accuracy = 0.9249433279037476\n",
            "{'batch_size': 140.0, 'dropout_cnn_block_one': 0.4146605830102283, 'dropout_cnn_block_three': 0.37341515352733495, 'dropout_cnn_block_two': 0.39425730708676215, 'dropout_dense_block_one': 0.520118746360589, 'dropout_dense_block_two': 0.30155096789798774}\n",
            "accuracy = 0.9235827922821045\n",
            "{'batch_size': 100.0, 'dropout_cnn_block_one': 0.43195334991984075, 'dropout_cnn_block_three': 0.33155781702517817, 'dropout_cnn_block_two': 0.34349119208570844, 'dropout_dense_block_one': 0.30306788332938067, 'dropout_dense_block_two': 0.36122026764008924}\n",
            "accuracy = 0.9303854703903198\n",
            "{'batch_size': 120.0, 'dropout_cnn_block_one': 0.30098532627035324, 'dropout_cnn_block_three': 0.3926914286922666, 'dropout_cnn_block_two': 0.33270668918916196, 'dropout_dense_block_one': 0.46868795339039426, 'dropout_dense_block_two': 0.42046929458426513}\n",
            "accuracy = 0.9528344869613647\n",
            "100%|██████████| 30/30 [08:36<00:00, 17.21s/it, best loss: -0.9528344869613647]\n"
          ],
          "name": "stdout"
        }
      ]
    },
    {
      "cell_type": "code",
      "metadata": {
        "id": "g3smyfJle0Mc",
        "colab_type": "code",
        "colab": {}
      },
      "source": [
        ""
      ],
      "execution_count": 0,
      "outputs": []
    }
  ]
}